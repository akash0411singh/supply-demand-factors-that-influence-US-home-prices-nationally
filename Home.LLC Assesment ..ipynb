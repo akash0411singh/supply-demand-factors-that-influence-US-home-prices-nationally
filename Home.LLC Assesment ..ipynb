{
 "cells": [
  {
   "cell_type": "code",
   "execution_count": 1,
   "id": "002271a1",
   "metadata": {},
   "outputs": [],
   "source": [
    "import numpy as np\n",
    "import pandas as pd\n",
    "import seaborn as sns\n",
    "import matplotlib.pyplot as plt"
   ]
  },
  {
   "cell_type": "code",
   "execution_count": 2,
   "id": "b6b93c3f",
   "metadata": {},
   "outputs": [],
   "source": [
    "supply=pd.read_csv(\"supply_data.csv\")"
   ]
  },
  {
   "cell_type": "code",
   "execution_count": 3,
   "id": "6e9ac1b2",
   "metadata": {},
   "outputs": [],
   "source": [
    "demand=pd.read_csv(\"demand_data.csv\")\n"
   ]
  },
  {
   "cell_type": "code",
   "execution_count": 4,
   "id": "d67fa753",
   "metadata": {},
   "outputs": [
    {
     "data": {
      "text/html": [
       "<div>\n",
       "<style scoped>\n",
       "    .dataframe tbody tr th:only-of-type {\n",
       "        vertical-align: middle;\n",
       "    }\n",
       "\n",
       "    .dataframe tbody tr th {\n",
       "        vertical-align: top;\n",
       "    }\n",
       "\n",
       "    .dataframe thead th {\n",
       "        text-align: right;\n",
       "    }\n",
       "</style>\n",
       "<table border=\"1\" class=\"dataframe\">\n",
       "  <thead>\n",
       "    <tr style=\"text-align: right;\">\n",
       "      <th></th>\n",
       "      <th>Unnamed: 0</th>\n",
       "      <th>Period</th>\n",
       "      <th>Permit_Number</th>\n",
       "      <th>construction</th>\n",
       "      <th>Homes_Sold</th>\n",
       "      <th>Housing_Starts</th>\n",
       "    </tr>\n",
       "  </thead>\n",
       "  <tbody>\n",
       "    <tr>\n",
       "      <th>0</th>\n",
       "      <td>1</td>\n",
       "      <td>01-01-2000</td>\n",
       "      <td>1727</td>\n",
       "      <td>353065</td>\n",
       "      <td>873</td>\n",
       "      <td>1636</td>\n",
       "    </tr>\n",
       "    <tr>\n",
       "      <th>1</th>\n",
       "      <td>2</td>\n",
       "      <td>01-02-2000</td>\n",
       "      <td>1692</td>\n",
       "      <td>351933</td>\n",
       "      <td>856</td>\n",
       "      <td>1737</td>\n",
       "    </tr>\n",
       "    <tr>\n",
       "      <th>2</th>\n",
       "      <td>3</td>\n",
       "      <td>01-03-2000</td>\n",
       "      <td>1651</td>\n",
       "      <td>353452</td>\n",
       "      <td>900</td>\n",
       "      <td>1604</td>\n",
       "    </tr>\n",
       "    <tr>\n",
       "      <th>3</th>\n",
       "      <td>4</td>\n",
       "      <td>01-04-2000</td>\n",
       "      <td>1597</td>\n",
       "      <td>356188</td>\n",
       "      <td>841</td>\n",
       "      <td>1626</td>\n",
       "    </tr>\n",
       "    <tr>\n",
       "      <th>4</th>\n",
       "      <td>5</td>\n",
       "      <td>01-05-2000</td>\n",
       "      <td>1543</td>\n",
       "      <td>349907</td>\n",
       "      <td>857</td>\n",
       "      <td>1575</td>\n",
       "    </tr>\n",
       "  </tbody>\n",
       "</table>\n",
       "</div>"
      ],
      "text/plain": [
       "   Unnamed: 0      Period  Permit_Number  construction  Homes_Sold  \\\n",
       "0           1  01-01-2000           1727        353065         873   \n",
       "1           2  01-02-2000           1692        351933         856   \n",
       "2           3  01-03-2000           1651        353452         900   \n",
       "3           4  01-04-2000           1597        356188         841   \n",
       "4           5  01-05-2000           1543        349907         857   \n",
       "\n",
       "   Housing_Starts  \n",
       "0            1636  \n",
       "1            1737  \n",
       "2            1604  \n",
       "3            1626  \n",
       "4            1575  "
      ]
     },
     "execution_count": 4,
     "metadata": {},
     "output_type": "execute_result"
    }
   ],
   "source": [
    "supply.head(5)"
   ]
  },
  {
   "cell_type": "markdown",
   "id": "1dae159f",
   "metadata": {},
   "source": [
    "## Supply_dataset(Monthly_data)"
   ]
  },
  {
   "cell_type": "markdown",
   "id": "9f29347f",
   "metadata": {},
   "source": [
    "\n",
    "*1.Building Permits(Permit Number)*-     Number of building permits allotted.<br>\n",
    "*2.Construction Spending (Million $)*-  The amount spent (in millions of USD) is a measure of the activity in the construction industry.<br>\n",
    "*3.Housing Starts(New Housing Project)*-  This is a measure of the number of units of new housing projects started in a given period.<br>\n",
    "*4.Homes Sold(units)*-   House for sale is a basic measure of supply.<br>"
   ]
  },
  {
   "cell_type": "code",
   "execution_count": 5,
   "id": "e5012917",
   "metadata": {
    "scrolled": true
   },
   "outputs": [
    {
     "data": {
      "text/html": [
       "<div>\n",
       "<style scoped>\n",
       "    .dataframe tbody tr th:only-of-type {\n",
       "        vertical-align: middle;\n",
       "    }\n",
       "\n",
       "    .dataframe tbody tr th {\n",
       "        vertical-align: top;\n",
       "    }\n",
       "\n",
       "    .dataframe thead th {\n",
       "        text-align: right;\n",
       "    }\n",
       "</style>\n",
       "<table border=\"1\" class=\"dataframe\">\n",
       "  <thead>\n",
       "    <tr style=\"text-align: right;\">\n",
       "      <th></th>\n",
       "      <th>DATE</th>\n",
       "      <th>UNEM_RATE</th>\n",
       "      <th>MORTGAGE</th>\n",
       "      <th>GDPC1</th>\n",
       "      <th>FORECLOSURES</th>\n",
       "      <th>HPI</th>\n",
       "    </tr>\n",
       "  </thead>\n",
       "  <tbody>\n",
       "    <tr>\n",
       "      <th>0</th>\n",
       "      <td>2000-01-01</td>\n",
       "      <td>4.03</td>\n",
       "      <td>8.26</td>\n",
       "      <td>12935.252</td>\n",
       "      <td>1.95</td>\n",
       "      <td>101.34</td>\n",
       "    </tr>\n",
       "    <tr>\n",
       "      <th>1</th>\n",
       "      <td>2000-04-01</td>\n",
       "      <td>3.93</td>\n",
       "      <td>8.32</td>\n",
       "      <td>13170.749</td>\n",
       "      <td>1.97</td>\n",
       "      <td>103.67</td>\n",
       "    </tr>\n",
       "    <tr>\n",
       "      <th>2</th>\n",
       "      <td>2000-07-01</td>\n",
       "      <td>4.00</td>\n",
       "      <td>8.02</td>\n",
       "      <td>13183.890</td>\n",
       "      <td>2.09</td>\n",
       "      <td>105.79</td>\n",
       "    </tr>\n",
       "    <tr>\n",
       "      <th>3</th>\n",
       "      <td>2000-10-01</td>\n",
       "      <td>3.90</td>\n",
       "      <td>7.62</td>\n",
       "      <td>13262.250</td>\n",
       "      <td>2.23</td>\n",
       "      <td>108.27</td>\n",
       "    </tr>\n",
       "    <tr>\n",
       "      <th>4</th>\n",
       "      <td>2001-01-01</td>\n",
       "      <td>4.23</td>\n",
       "      <td>7.01</td>\n",
       "      <td>13219.251</td>\n",
       "      <td>2.34</td>\n",
       "      <td>110.48</td>\n",
       "    </tr>\n",
       "  </tbody>\n",
       "</table>\n",
       "</div>"
      ],
      "text/plain": [
       "         DATE  UNEM_RATE  MORTGAGE      GDPC1  FORECLOSURES     HPI\n",
       "0  2000-01-01       4.03      8.26  12935.252          1.95  101.34\n",
       "1  2000-04-01       3.93      8.32  13170.749          1.97  103.67\n",
       "2  2000-07-01       4.00      8.02  13183.890          2.09  105.79\n",
       "3  2000-10-01       3.90      7.62  13262.250          2.23  108.27\n",
       "4  2001-01-01       4.23      7.01  13219.251          2.34  110.48"
      ]
     },
     "execution_count": 5,
     "metadata": {},
     "output_type": "execute_result"
    }
   ],
   "source": [
    "demand.head(5)"
   ]
  },
  {
   "cell_type": "markdown",
   "id": "3932b0fd",
   "metadata": {},
   "source": [
    "## Demand_dataset(Quaterly_data)"
   ]
  },
  {
   "cell_type": "markdown",
   "id": "2f98f552",
   "metadata": {},
   "source": [
    "*1.Mortgage Rates(%)*<br>\n",
    "*2.USA GDP(Billions$ )-Quarterly Real GDP (adjusted for inflation)*<br>\n",
    "*3.Unemployment(%)*<br>\n",
    "*4.Delinquency Rate(%) on Mortgages(Foreclosure on the mortgage)-an indicator of the number of foreclosures in real estate*<br>"
   ]
  },
  {
   "cell_type": "markdown",
   "id": "90be770a",
   "metadata": {},
   "source": [
    "# DATA CLEANING"
   ]
  },
  {
   "cell_type": "code",
   "execution_count": 6,
   "id": "bfb03de5",
   "metadata": {},
   "outputs": [],
   "source": [
    "# Removing non-usefull column name 'Unnamed:0'\n",
    "supply=supply.drop(['Unnamed: 0'], axis=1)"
   ]
  },
  {
   "cell_type": "code",
   "execution_count": 7,
   "id": "bb60c55a",
   "metadata": {},
   "outputs": [
    {
     "data": {
      "text/html": [
       "<div>\n",
       "<style scoped>\n",
       "    .dataframe tbody tr th:only-of-type {\n",
       "        vertical-align: middle;\n",
       "    }\n",
       "\n",
       "    .dataframe tbody tr th {\n",
       "        vertical-align: top;\n",
       "    }\n",
       "\n",
       "    .dataframe thead th {\n",
       "        text-align: right;\n",
       "    }\n",
       "</style>\n",
       "<table border=\"1\" class=\"dataframe\">\n",
       "  <thead>\n",
       "    <tr style=\"text-align: right;\">\n",
       "      <th></th>\n",
       "      <th>Period</th>\n",
       "      <th>Permit_Number</th>\n",
       "      <th>construction</th>\n",
       "      <th>Homes_Sold</th>\n",
       "      <th>Housing_Starts</th>\n",
       "    </tr>\n",
       "  </thead>\n",
       "  <tbody>\n",
       "    <tr>\n",
       "      <th>0</th>\n",
       "      <td>01-01-2000</td>\n",
       "      <td>1727</td>\n",
       "      <td>353065</td>\n",
       "      <td>873</td>\n",
       "      <td>1636</td>\n",
       "    </tr>\n",
       "    <tr>\n",
       "      <th>1</th>\n",
       "      <td>01-02-2000</td>\n",
       "      <td>1692</td>\n",
       "      <td>351933</td>\n",
       "      <td>856</td>\n",
       "      <td>1737</td>\n",
       "    </tr>\n",
       "    <tr>\n",
       "      <th>2</th>\n",
       "      <td>01-03-2000</td>\n",
       "      <td>1651</td>\n",
       "      <td>353452</td>\n",
       "      <td>900</td>\n",
       "      <td>1604</td>\n",
       "    </tr>\n",
       "    <tr>\n",
       "      <th>3</th>\n",
       "      <td>01-04-2000</td>\n",
       "      <td>1597</td>\n",
       "      <td>356188</td>\n",
       "      <td>841</td>\n",
       "      <td>1626</td>\n",
       "    </tr>\n",
       "    <tr>\n",
       "      <th>4</th>\n",
       "      <td>01-05-2000</td>\n",
       "      <td>1543</td>\n",
       "      <td>349907</td>\n",
       "      <td>857</td>\n",
       "      <td>1575</td>\n",
       "    </tr>\n",
       "  </tbody>\n",
       "</table>\n",
       "</div>"
      ],
      "text/plain": [
       "       Period  Permit_Number  construction  Homes_Sold  Housing_Starts\n",
       "0  01-01-2000           1727        353065         873            1636\n",
       "1  01-02-2000           1692        351933         856            1737\n",
       "2  01-03-2000           1651        353452         900            1604\n",
       "3  01-04-2000           1597        356188         841            1626\n",
       "4  01-05-2000           1543        349907         857            1575"
      ]
     },
     "execution_count": 7,
     "metadata": {},
     "output_type": "execute_result"
    }
   ],
   "source": [
    "supply.head(5)"
   ]
  },
  {
   "cell_type": "code",
   "execution_count": 8,
   "id": "82597068",
   "metadata": {},
   "outputs": [
    {
     "name": "stdout",
     "output_type": "stream",
     "text": [
      "<class 'pandas.core.frame.DataFrame'>\n",
      "RangeIndex: 250 entries, 0 to 249\n",
      "Data columns (total 5 columns):\n",
      " #   Column          Non-Null Count  Dtype \n",
      "---  ------          --------------  ----- \n",
      " 0   Period          250 non-null    object\n",
      " 1   Permit_Number   250 non-null    int64 \n",
      " 2   construction    250 non-null    int64 \n",
      " 3   Homes_Sold      250 non-null    int64 \n",
      " 4   Housing_Starts  250 non-null    int64 \n",
      "dtypes: int64(4), object(1)\n",
      "memory usage: 9.9+ KB\n",
      "None\n"
     ]
    }
   ],
   "source": [
    "print(supply.info())"
   ]
  },
  {
   "cell_type": "code",
   "execution_count": 9,
   "id": "d090ad24",
   "metadata": {},
   "outputs": [
    {
     "name": "stdout",
     "output_type": "stream",
     "text": [
      "<class 'pandas.core.frame.DataFrame'>\n",
      "RangeIndex: 84 entries, 0 to 83\n",
      "Data columns (total 6 columns):\n",
      " #   Column        Non-Null Count  Dtype  \n",
      "---  ------        --------------  -----  \n",
      " 0   DATE          84 non-null     object \n",
      " 1   UNEM_RATE     84 non-null     float64\n",
      " 2   MORTGAGE      84 non-null     float64\n",
      " 3   GDPC1         84 non-null     float64\n",
      " 4   FORECLOSURES  84 non-null     float64\n",
      " 5   HPI           84 non-null     float64\n",
      "dtypes: float64(5), object(1)\n",
      "memory usage: 4.1+ KB\n",
      "None\n"
     ]
    }
   ],
   "source": [
    "print(demand.info())"
   ]
  },
  {
   "cell_type": "code",
   "execution_count": 10,
   "id": "10a24364",
   "metadata": {},
   "outputs": [],
   "source": [
    "# Converting \"DATE\" column in demand to consistent date format\n",
    "demand['DATE'] = pd.to_datetime(demand['DATE'])"
   ]
  },
  {
   "cell_type": "code",
   "execution_count": 11,
   "id": "eec7df27",
   "metadata": {},
   "outputs": [],
   "source": [
    "# Converting \"period\" column in supply to consistent date format\n",
    "supply['Period'] = pd.to_datetime(supply['Period'], format='%d-%m-%Y').dt.strftime('%Y-%m-%d')\n",
    "supply.rename(columns={'Period': 'DATE'}, inplace=True)\n",
    "supply['DATE'] = pd.to_datetime(supply['DATE'])"
   ]
  },
  {
   "cell_type": "code",
   "execution_count": 12,
   "id": "a8694139",
   "metadata": {},
   "outputs": [],
   "source": [
    "#Mergeing supply and demand into DF\n",
    "DF=pd.merge(supply,demand)"
   ]
  },
  {
   "cell_type": "code",
   "execution_count": 13,
   "id": "7bb903c5",
   "metadata": {},
   "outputs": [
    {
     "data": {
      "text/html": [
       "<div>\n",
       "<style scoped>\n",
       "    .dataframe tbody tr th:only-of-type {\n",
       "        vertical-align: middle;\n",
       "    }\n",
       "\n",
       "    .dataframe tbody tr th {\n",
       "        vertical-align: top;\n",
       "    }\n",
       "\n",
       "    .dataframe thead th {\n",
       "        text-align: right;\n",
       "    }\n",
       "</style>\n",
       "<table border=\"1\" class=\"dataframe\">\n",
       "  <thead>\n",
       "    <tr style=\"text-align: right;\">\n",
       "      <th></th>\n",
       "      <th>DATE</th>\n",
       "      <th>Permit_Number</th>\n",
       "      <th>construction</th>\n",
       "      <th>Homes_Sold</th>\n",
       "      <th>Housing_Starts</th>\n",
       "      <th>UNEM_RATE</th>\n",
       "      <th>MORTGAGE</th>\n",
       "      <th>GDPC1</th>\n",
       "      <th>FORECLOSURES</th>\n",
       "      <th>HPI</th>\n",
       "    </tr>\n",
       "  </thead>\n",
       "  <tbody>\n",
       "    <tr>\n",
       "      <th>0</th>\n",
       "      <td>2000-01-01</td>\n",
       "      <td>1727</td>\n",
       "      <td>353065</td>\n",
       "      <td>873</td>\n",
       "      <td>1636</td>\n",
       "      <td>4.03</td>\n",
       "      <td>8.26</td>\n",
       "      <td>12935.252</td>\n",
       "      <td>1.95</td>\n",
       "      <td>101.34</td>\n",
       "    </tr>\n",
       "    <tr>\n",
       "      <th>1</th>\n",
       "      <td>2000-04-01</td>\n",
       "      <td>1597</td>\n",
       "      <td>356188</td>\n",
       "      <td>841</td>\n",
       "      <td>1626</td>\n",
       "      <td>3.93</td>\n",
       "      <td>8.32</td>\n",
       "      <td>13170.749</td>\n",
       "      <td>1.97</td>\n",
       "      <td>103.67</td>\n",
       "    </tr>\n",
       "    <tr>\n",
       "      <th>2</th>\n",
       "      <td>2000-07-01</td>\n",
       "      <td>1542</td>\n",
       "      <td>337374</td>\n",
       "      <td>887</td>\n",
       "      <td>1463</td>\n",
       "      <td>4.00</td>\n",
       "      <td>8.02</td>\n",
       "      <td>13183.890</td>\n",
       "      <td>2.09</td>\n",
       "      <td>105.79</td>\n",
       "    </tr>\n",
       "    <tr>\n",
       "      <th>3</th>\n",
       "      <td>2000-10-01</td>\n",
       "      <td>1577</td>\n",
       "      <td>344095</td>\n",
       "      <td>933</td>\n",
       "      <td>1549</td>\n",
       "      <td>3.90</td>\n",
       "      <td>7.62</td>\n",
       "      <td>13262.250</td>\n",
       "      <td>2.23</td>\n",
       "      <td>108.27</td>\n",
       "    </tr>\n",
       "    <tr>\n",
       "      <th>4</th>\n",
       "      <td>2001-01-01</td>\n",
       "      <td>1699</td>\n",
       "      <td>348279</td>\n",
       "      <td>936</td>\n",
       "      <td>1600</td>\n",
       "      <td>4.23</td>\n",
       "      <td>7.01</td>\n",
       "      <td>13219.251</td>\n",
       "      <td>2.34</td>\n",
       "      <td>110.48</td>\n",
       "    </tr>\n",
       "  </tbody>\n",
       "</table>\n",
       "</div>"
      ],
      "text/plain": [
       "        DATE  Permit_Number  construction  Homes_Sold  Housing_Starts  \\\n",
       "0 2000-01-01           1727        353065         873            1636   \n",
       "1 2000-04-01           1597        356188         841            1626   \n",
       "2 2000-07-01           1542        337374         887            1463   \n",
       "3 2000-10-01           1577        344095         933            1549   \n",
       "4 2001-01-01           1699        348279         936            1600   \n",
       "\n",
       "   UNEM_RATE  MORTGAGE      GDPC1  FORECLOSURES     HPI  \n",
       "0       4.03      8.26  12935.252          1.95  101.34  \n",
       "1       3.93      8.32  13170.749          1.97  103.67  \n",
       "2       4.00      8.02  13183.890          2.09  105.79  \n",
       "3       3.90      7.62  13262.250          2.23  108.27  \n",
       "4       4.23      7.01  13219.251          2.34  110.48  "
      ]
     },
     "execution_count": 13,
     "metadata": {},
     "output_type": "execute_result"
    }
   ],
   "source": [
    "DF.head(5)"
   ]
  },
  {
   "cell_type": "code",
   "execution_count": 14,
   "id": "8c964011",
   "metadata": {},
   "outputs": [],
   "source": [
    "# I extracted the year, month and day from the DATE column to facilitate training, for the model.\n",
    "DF['year'] = DF['DATE'].dt.year\n",
    "DF['month'] = DF['DATE'].dt.month\n",
    "DF['day'] = DF['DATE'].dt.day"
   ]
  },
  {
   "cell_type": "code",
   "execution_count": 15,
   "id": "078a6369",
   "metadata": {
    "scrolled": true
   },
   "outputs": [
    {
     "data": {
      "text/html": [
       "<div>\n",
       "<style scoped>\n",
       "    .dataframe tbody tr th:only-of-type {\n",
       "        vertical-align: middle;\n",
       "    }\n",
       "\n",
       "    .dataframe tbody tr th {\n",
       "        vertical-align: top;\n",
       "    }\n",
       "\n",
       "    .dataframe thead th {\n",
       "        text-align: right;\n",
       "    }\n",
       "</style>\n",
       "<table border=\"1\" class=\"dataframe\">\n",
       "  <thead>\n",
       "    <tr style=\"text-align: right;\">\n",
       "      <th></th>\n",
       "      <th>DATE</th>\n",
       "      <th>Permit_Number</th>\n",
       "      <th>construction</th>\n",
       "      <th>Homes_Sold</th>\n",
       "      <th>Housing_Starts</th>\n",
       "      <th>UNEM_RATE</th>\n",
       "      <th>MORTGAGE</th>\n",
       "      <th>GDPC1</th>\n",
       "      <th>FORECLOSURES</th>\n",
       "      <th>HPI</th>\n",
       "      <th>year</th>\n",
       "      <th>month</th>\n",
       "      <th>day</th>\n",
       "    </tr>\n",
       "  </thead>\n",
       "  <tbody>\n",
       "    <tr>\n",
       "      <th>0</th>\n",
       "      <td>2000-01-01</td>\n",
       "      <td>1727</td>\n",
       "      <td>353065</td>\n",
       "      <td>873</td>\n",
       "      <td>1636</td>\n",
       "      <td>4.03</td>\n",
       "      <td>8.26</td>\n",
       "      <td>12935.252</td>\n",
       "      <td>1.95</td>\n",
       "      <td>101.34</td>\n",
       "      <td>2000</td>\n",
       "      <td>1</td>\n",
       "      <td>1</td>\n",
       "    </tr>\n",
       "    <tr>\n",
       "      <th>1</th>\n",
       "      <td>2000-04-01</td>\n",
       "      <td>1597</td>\n",
       "      <td>356188</td>\n",
       "      <td>841</td>\n",
       "      <td>1626</td>\n",
       "      <td>3.93</td>\n",
       "      <td>8.32</td>\n",
       "      <td>13170.749</td>\n",
       "      <td>1.97</td>\n",
       "      <td>103.67</td>\n",
       "      <td>2000</td>\n",
       "      <td>4</td>\n",
       "      <td>1</td>\n",
       "    </tr>\n",
       "    <tr>\n",
       "      <th>2</th>\n",
       "      <td>2000-07-01</td>\n",
       "      <td>1542</td>\n",
       "      <td>337374</td>\n",
       "      <td>887</td>\n",
       "      <td>1463</td>\n",
       "      <td>4.00</td>\n",
       "      <td>8.02</td>\n",
       "      <td>13183.890</td>\n",
       "      <td>2.09</td>\n",
       "      <td>105.79</td>\n",
       "      <td>2000</td>\n",
       "      <td>7</td>\n",
       "      <td>1</td>\n",
       "    </tr>\n",
       "    <tr>\n",
       "      <th>3</th>\n",
       "      <td>2000-10-01</td>\n",
       "      <td>1577</td>\n",
       "      <td>344095</td>\n",
       "      <td>933</td>\n",
       "      <td>1549</td>\n",
       "      <td>3.90</td>\n",
       "      <td>7.62</td>\n",
       "      <td>13262.250</td>\n",
       "      <td>2.23</td>\n",
       "      <td>108.27</td>\n",
       "      <td>2000</td>\n",
       "      <td>10</td>\n",
       "      <td>1</td>\n",
       "    </tr>\n",
       "    <tr>\n",
       "      <th>4</th>\n",
       "      <td>2001-01-01</td>\n",
       "      <td>1699</td>\n",
       "      <td>348279</td>\n",
       "      <td>936</td>\n",
       "      <td>1600</td>\n",
       "      <td>4.23</td>\n",
       "      <td>7.01</td>\n",
       "      <td>13219.251</td>\n",
       "      <td>2.34</td>\n",
       "      <td>110.48</td>\n",
       "      <td>2001</td>\n",
       "      <td>1</td>\n",
       "      <td>1</td>\n",
       "    </tr>\n",
       "  </tbody>\n",
       "</table>\n",
       "</div>"
      ],
      "text/plain": [
       "        DATE  Permit_Number  construction  Homes_Sold  Housing_Starts  \\\n",
       "0 2000-01-01           1727        353065         873            1636   \n",
       "1 2000-04-01           1597        356188         841            1626   \n",
       "2 2000-07-01           1542        337374         887            1463   \n",
       "3 2000-10-01           1577        344095         933            1549   \n",
       "4 2001-01-01           1699        348279         936            1600   \n",
       "\n",
       "   UNEM_RATE  MORTGAGE      GDPC1  FORECLOSURES     HPI  year  month  day  \n",
       "0       4.03      8.26  12935.252          1.95  101.34  2000      1    1  \n",
       "1       3.93      8.32  13170.749          1.97  103.67  2000      4    1  \n",
       "2       4.00      8.02  13183.890          2.09  105.79  2000      7    1  \n",
       "3       3.90      7.62  13262.250          2.23  108.27  2000     10    1  \n",
       "4       4.23      7.01  13219.251          2.34  110.48  2001      1    1  "
      ]
     },
     "execution_count": 15,
     "metadata": {},
     "output_type": "execute_result"
    }
   ],
   "source": [
    "DF.head()"
   ]
  },
  {
   "cell_type": "code",
   "execution_count": 16,
   "id": "cc1bcc7b",
   "metadata": {},
   "outputs": [],
   "source": [
    "DF= DF.drop('DATE', axis=1)"
   ]
  },
  {
   "cell_type": "code",
   "execution_count": 17,
   "id": "52dea97d",
   "metadata": {},
   "outputs": [
    {
     "data": {
      "text/html": [
       "<div>\n",
       "<style scoped>\n",
       "    .dataframe tbody tr th:only-of-type {\n",
       "        vertical-align: middle;\n",
       "    }\n",
       "\n",
       "    .dataframe tbody tr th {\n",
       "        vertical-align: top;\n",
       "    }\n",
       "\n",
       "    .dataframe thead th {\n",
       "        text-align: right;\n",
       "    }\n",
       "</style>\n",
       "<table border=\"1\" class=\"dataframe\">\n",
       "  <thead>\n",
       "    <tr style=\"text-align: right;\">\n",
       "      <th></th>\n",
       "      <th>Permit_Number</th>\n",
       "      <th>construction</th>\n",
       "      <th>Homes_Sold</th>\n",
       "      <th>Housing_Starts</th>\n",
       "      <th>UNEM_RATE</th>\n",
       "      <th>MORTGAGE</th>\n",
       "      <th>GDPC1</th>\n",
       "      <th>FORECLOSURES</th>\n",
       "      <th>HPI</th>\n",
       "      <th>year</th>\n",
       "      <th>month</th>\n",
       "      <th>day</th>\n",
       "    </tr>\n",
       "  </thead>\n",
       "  <tbody>\n",
       "    <tr>\n",
       "      <th>0</th>\n",
       "      <td>1727</td>\n",
       "      <td>353065</td>\n",
       "      <td>873</td>\n",
       "      <td>1636</td>\n",
       "      <td>4.03</td>\n",
       "      <td>8.26</td>\n",
       "      <td>12935.252</td>\n",
       "      <td>1.95</td>\n",
       "      <td>101.34</td>\n",
       "      <td>2000</td>\n",
       "      <td>1</td>\n",
       "      <td>1</td>\n",
       "    </tr>\n",
       "    <tr>\n",
       "      <th>1</th>\n",
       "      <td>1597</td>\n",
       "      <td>356188</td>\n",
       "      <td>841</td>\n",
       "      <td>1626</td>\n",
       "      <td>3.93</td>\n",
       "      <td>8.32</td>\n",
       "      <td>13170.749</td>\n",
       "      <td>1.97</td>\n",
       "      <td>103.67</td>\n",
       "      <td>2000</td>\n",
       "      <td>4</td>\n",
       "      <td>1</td>\n",
       "    </tr>\n",
       "    <tr>\n",
       "      <th>2</th>\n",
       "      <td>1542</td>\n",
       "      <td>337374</td>\n",
       "      <td>887</td>\n",
       "      <td>1463</td>\n",
       "      <td>4.00</td>\n",
       "      <td>8.02</td>\n",
       "      <td>13183.890</td>\n",
       "      <td>2.09</td>\n",
       "      <td>105.79</td>\n",
       "      <td>2000</td>\n",
       "      <td>7</td>\n",
       "      <td>1</td>\n",
       "    </tr>\n",
       "  </tbody>\n",
       "</table>\n",
       "</div>"
      ],
      "text/plain": [
       "   Permit_Number  construction  Homes_Sold  Housing_Starts  UNEM_RATE  \\\n",
       "0           1727        353065         873            1636       4.03   \n",
       "1           1597        356188         841            1626       3.93   \n",
       "2           1542        337374         887            1463       4.00   \n",
       "\n",
       "   MORTGAGE      GDPC1  FORECLOSURES     HPI  year  month  day  \n",
       "0      8.26  12935.252          1.95  101.34  2000      1    1  \n",
       "1      8.32  13170.749          1.97  103.67  2000      4    1  \n",
       "2      8.02  13183.890          2.09  105.79  2000      7    1  "
      ]
     },
     "execution_count": 17,
     "metadata": {},
     "output_type": "execute_result"
    }
   ],
   "source": [
    "DF.head(3)"
   ]
  },
  {
   "cell_type": "code",
   "execution_count": 18,
   "id": "0839a6e2",
   "metadata": {},
   "outputs": [
    {
     "name": "stdout",
     "output_type": "stream",
     "text": [
      "Index(['Permit_Number', 'construction', 'Homes_Sold', 'Housing_Starts',\n",
      "       'UNEM_RATE', 'MORTGAGE', 'GDPC1', 'FORECLOSURES', 'HPI', 'year',\n",
      "       'month', 'day'],\n",
      "      dtype='object')\n"
     ]
    }
   ],
   "source": [
    "print(DF.columns)"
   ]
  },
  {
   "cell_type": "code",
   "execution_count": 19,
   "id": "30541372",
   "metadata": {
    "scrolled": true,
    "slideshow": {
     "slide_type": "subslide"
    }
   },
   "outputs": [
    {
     "data": {
      "text/plain": [
       "Permit_Number     0\n",
       "construction      0\n",
       "Homes_Sold        0\n",
       "Housing_Starts    0\n",
       "UNEM_RATE         0\n",
       "MORTGAGE          0\n",
       "GDPC1             0\n",
       "FORECLOSURES      0\n",
       "HPI               0\n",
       "year              0\n",
       "month             0\n",
       "day               0\n",
       "dtype: int64"
      ]
     },
     "execution_count": 19,
     "metadata": {},
     "output_type": "execute_result"
    }
   ],
   "source": [
    "DF.isnull().sum()"
   ]
  },
  {
   "cell_type": "code",
   "execution_count": 20,
   "id": "ada15e1d",
   "metadata": {
    "scrolled": false
   },
   "outputs": [
    {
     "data": {
      "text/plain": [
       "<AxesSubplot:xlabel='month', ylabel='HPI'>"
      ]
     },
     "execution_count": 20,
     "metadata": {},
     "output_type": "execute_result"
    },
    {
     "data": {
      "image/png": "[encoded data removed]",
      "text/plain": [
       "<Figure size 432x288 with 1 Axes>"
      ]
     },
     "metadata": {
      "needs_background": "light"
     },
     "output_type": "display_data"
    }
   ],
   "source": [
    "  \n",
    "   sns.boxplot(x='month',y='HPI', data = DF)\n",
    " \n",
    "    "
   ]
  },
  {
   "cell_type": "markdown",
   "id": "7f036c9c",
   "metadata": {},
   "source": [
    "## Checking outliers"
   ]
  },
  {
   "cell_type": "code",
   "execution_count": 21,
   "id": "051ceff8",
   "metadata": {
    "scrolled": true
   },
   "outputs": [
    {
     "data": {
      "image/png": "[encoded data removed]",
      "text/plain": [
       "<Figure size 432x288 with 1 Axes>"
      ]
     },
     "metadata": {
      "needs_background": "light"
     },
     "output_type": "display_data"
    },
    {
     "data": {
      "image/png": "[encoded data removed]",
      "text/plain": [
       "<Figure size 432x288 with 1 Axes>"
      ]
     },
     "metadata": {
      "needs_background": "light"
     },
     "output_type": "display_data"
    },
    {
     "data": {
      "image/png": "[encoded data removed]",
      "text/plain": [
       "<Figure size 432x288 with 1 Axes>"
      ]
     },
     "metadata": {
      "needs_background": "light"
     },
     "output_type": "display_data"
    },
    {
     "data": {
      "image/png": "[encoded data removed]",
      "text/plain": [
       "<Figure size 432x288 with 1 Axes>"
      ]
     },
     "metadata": {
      "needs_background": "light"
     },
     "output_type": "display_data"
    },
    {
     "data": {
      "image/png": "[encoded data removed]",
      "text/plain": [
       "<Figure size 432x288 with 1 Axes>"
      ]
     },
     "metadata": {
      "needs_background": "light"
     },
     "output_type": "display_data"
    },
    {
     "data": {
      "image/png": "[encoded data removed]",
      "text/plain": [
       "<Figure size 432x288 with 1 Axes>"
      ]
     },
     "metadata": {
      "needs_background": "light"
     },
     "output_type": "display_data"
    },
    {
     "data": {
      "image/png": "[encoded data removed]",
      "text/plain": [
       "<Figure size 432x288 with 1 Axes>"
      ]
     },
     "metadata": {
      "needs_background": "light"
     },
     "output_type": "display_data"
    },
    {
     "data": {
      "image/png": "[encoded data removed]",
      "text/plain": [
       "<Figure size 432x288 with 1 Axes>"
      ]
     },
     "metadata": {
      "needs_background": "light"
     },
     "output_type": "display_data"
    },
    {
     "data": {
      "image/png": "[encoded data removed]",
      "text/plain": [
       "<Figure size 432x288 with 1 Axes>"
      ]
     },
     "metadata": {
      "needs_background": "light"
     },
     "output_type": "display_data"
    },
    {
     "data": {
      "image/png": "[encoded data removed]",
      "text/plain": [
       "<Figure size 432x288 with 1 Axes>"
      ]
     },
     "metadata": {
      "needs_background": "light"
     },
     "output_type": "display_data"
    },
    {
     "data": {
      "image/png": "[encoded data removed]",
      "text/plain": [
       "<Figure size 432x288 with 1 Axes>"
      ]
     },
     "metadata": {
      "needs_background": "light"
     },
     "output_type": "display_data"
    },
    {
     "data": {
      "image/png": "[encoded data removed]",
      "text/plain": [
       "<Figure size 432x288 with 1 Axes>"
      ]
     },
     "metadata": {
      "needs_background": "light"
     },
     "output_type": "display_data"
    }
   ],
   "source": [
    "\n",
    "for feature in DF.columns:\n",
    "    DF.boxplot(column=feature)\n",
    "    plt.ylabel(feature)\n",
    "    plt.title(feature)\n",
    "    plt.show()"
   ]
  },
  {
   "cell_type": "markdown",
   "id": "5f7b6d82",
   "metadata": {},
   "source": [
    "## NO outliers as such found ."
   ]
  },
  {
   "cell_type": "code",
   "execution_count": 22,
   "id": "919a1b85",
   "metadata": {
    "scrolled": false
   },
   "outputs": [
    {
     "data": {
      "text/plain": [
       "<AxesSubplot:xlabel='year', ylabel='HPI'>"
      ]
     },
     "execution_count": 22,
     "metadata": {},
     "output_type": "execute_result"
    },
    {
     "data": {
      "image/png": "[encoded data removed]",
      "text/plain": [
       "<Figure size 1080x504 with 1 Axes>"
      ]
     },
     "metadata": {
      "needs_background": "light"
     },
     "output_type": "display_data"
    }
   ],
   "source": [
    "plt.figure(figsize=(15,7))\n",
    "sns.barplot(x='year',y='HPI',data=DF)"
   ]
  },
  {
   "cell_type": "code",
   "execution_count": 23,
   "id": "ee7dfbf4",
   "metadata": {
    "scrolled": true
   },
   "outputs": [
    {
     "data": {
      "text/plain": [
       "<AxesSubplot:xlabel='year', ylabel='HPI'>"
      ]
     },
     "execution_count": 23,
     "metadata": {},
     "output_type": "execute_result"
    },
    {
     "data": {
      "image/png": "[encoded data removed]",
      "text/plain": [
       "<Figure size 1080x360 with 1 Axes>"
      ]
     },
     "metadata": {
      "needs_background": "light"
     },
     "output_type": "display_data"
    }
   ],
   "source": [
    "plt.figure(figsize=(15,5))\n",
    "sns.lineplot(x='year',y='HPI',data=DF)"
   ]
  },
  {
   "cell_type": "code",
   "execution_count": 24,
   "id": "155a6d46",
   "metadata": {},
   "outputs": [
    {
     "data": {
      "text/plain": [
       "<seaborn.axisgrid.FacetGrid at 0x21905092d30>"
      ]
     },
     "execution_count": 24,
     "metadata": {},
     "output_type": "execute_result"
    },
    {
     "data": {
      "image/png": "[encoded data removed]",
      "text/plain": [
       "<Figure size 360x360 with 1 Axes>"
      ]
     },
     "metadata": {
      "needs_background": "light"
     },
     "output_type": "display_data"
    }
   ],
   "source": [
    "sns.catplot(x=\"month\",y=\"HPI\",kind=\"violin\", data=DF)"
   ]
  },
  {
   "cell_type": "code",
   "execution_count": 25,
   "id": "ded4c72a",
   "metadata": {},
   "outputs": [
    {
     "data": {
      "text/plain": [
       "<seaborn.axisgrid.FacetGrid at 0x219053520d0>"
      ]
     },
     "execution_count": 25,
     "metadata": {},
     "output_type": "execute_result"
    },
    {
     "data": {
      "image/png": "[encoded data removed]",
      "text/plain": [
       "<Figure size 408.625x360 with 1 Axes>"
      ]
     },
     "metadata": {
      "needs_background": "light"
     },
     "output_type": "display_data"
    }
   ],
   "source": [
    "sns.catplot(x='Homes_Sold',y='HPI',hue='month',data=DF)"
   ]
  },
  {
   "cell_type": "markdown",
   "id": "fb84d0f5",
   "metadata": {},
   "source": [
    "## checking the corelation of different features with housing price Index(HPI) with heatmap"
   ]
  },
  {
   "cell_type": "code",
   "execution_count": 26,
   "id": "8146ef44",
   "metadata": {
    "scrolled": true
   },
   "outputs": [
    {
     "data": {
      "text/plain": [
       "<AxesSubplot:>"
      ]
     },
     "execution_count": 26,
     "metadata": {},
     "output_type": "execute_result"
    },
    {
     "data": {
      "image/png": "[encoded data removed]",
      "text/plain": [
       "<Figure size 1080x1080 with 2 Axes>"
      ]
     },
     "metadata": {
      "needs_background": "light"
     },
     "output_type": "display_data"
    }
   ],
   "source": [
    "plt.figure(figsize=(15,15))\n",
    "sns.heatmap(DF.corr(),annot=True)"
   ]
  },
  {
   "cell_type": "markdown",
   "id": "d7614225",
   "metadata": {},
   "source": [
    "### GDPC and Construction have strong coorelation with HPI"
   ]
  },
  {
   "cell_type": "markdown",
   "id": "cbead457",
   "metadata": {},
   "source": [
    "# Model Training"
   ]
  },
  {
   "cell_type": "code",
   "execution_count": 27,
   "id": "acfe6c42",
   "metadata": {},
   "outputs": [],
   "source": [
    "y=DF['HPI']"
   ]
  },
  {
   "cell_type": "code",
   "execution_count": 28,
   "id": "b35442df",
   "metadata": {},
   "outputs": [],
   "source": [
    "x=DF.drop(['HPI'], axis=1)"
   ]
  },
  {
   "cell_type": "code",
   "execution_count": 29,
   "id": "d72101b2",
   "metadata": {},
   "outputs": [
    {
     "data": {
      "text/html": [
       "<div>\n",
       "<style scoped>\n",
       "    .dataframe tbody tr th:only-of-type {\n",
       "        vertical-align: middle;\n",
       "    }\n",
       "\n",
       "    .dataframe tbody tr th {\n",
       "        vertical-align: top;\n",
       "    }\n",
       "\n",
       "    .dataframe thead th {\n",
       "        text-align: right;\n",
       "    }\n",
       "</style>\n",
       "<table border=\"1\" class=\"dataframe\">\n",
       "  <thead>\n",
       "    <tr style=\"text-align: right;\">\n",
       "      <th></th>\n",
       "      <th>Permit_Number</th>\n",
       "      <th>construction</th>\n",
       "      <th>Homes_Sold</th>\n",
       "      <th>Housing_Starts</th>\n",
       "      <th>UNEM_RATE</th>\n",
       "      <th>MORTGAGE</th>\n",
       "      <th>GDPC1</th>\n",
       "      <th>FORECLOSURES</th>\n",
       "      <th>year</th>\n",
       "      <th>month</th>\n",
       "      <th>day</th>\n",
       "    </tr>\n",
       "  </thead>\n",
       "  <tbody>\n",
       "    <tr>\n",
       "      <th>0</th>\n",
       "      <td>1727</td>\n",
       "      <td>353065</td>\n",
       "      <td>873</td>\n",
       "      <td>1636</td>\n",
       "      <td>4.03</td>\n",
       "      <td>8.26</td>\n",
       "      <td>12935.252</td>\n",
       "      <td>1.95</td>\n",
       "      <td>2000</td>\n",
       "      <td>1</td>\n",
       "      <td>1</td>\n",
       "    </tr>\n",
       "    <tr>\n",
       "      <th>1</th>\n",
       "      <td>1597</td>\n",
       "      <td>356188</td>\n",
       "      <td>841</td>\n",
       "      <td>1626</td>\n",
       "      <td>3.93</td>\n",
       "      <td>8.32</td>\n",
       "      <td>13170.749</td>\n",
       "      <td>1.97</td>\n",
       "      <td>2000</td>\n",
       "      <td>4</td>\n",
       "      <td>1</td>\n",
       "    </tr>\n",
       "    <tr>\n",
       "      <th>2</th>\n",
       "      <td>1542</td>\n",
       "      <td>337374</td>\n",
       "      <td>887</td>\n",
       "      <td>1463</td>\n",
       "      <td>4.00</td>\n",
       "      <td>8.02</td>\n",
       "      <td>13183.890</td>\n",
       "      <td>2.09</td>\n",
       "      <td>2000</td>\n",
       "      <td>7</td>\n",
       "      <td>1</td>\n",
       "    </tr>\n",
       "    <tr>\n",
       "      <th>3</th>\n",
       "      <td>1577</td>\n",
       "      <td>344095</td>\n",
       "      <td>933</td>\n",
       "      <td>1549</td>\n",
       "      <td>3.90</td>\n",
       "      <td>7.62</td>\n",
       "      <td>13262.250</td>\n",
       "      <td>2.23</td>\n",
       "      <td>2000</td>\n",
       "      <td>10</td>\n",
       "      <td>1</td>\n",
       "    </tr>\n",
       "    <tr>\n",
       "      <th>4</th>\n",
       "      <td>1699</td>\n",
       "      <td>348279</td>\n",
       "      <td>936</td>\n",
       "      <td>1600</td>\n",
       "      <td>4.23</td>\n",
       "      <td>7.01</td>\n",
       "      <td>13219.251</td>\n",
       "      <td>2.34</td>\n",
       "      <td>2001</td>\n",
       "      <td>1</td>\n",
       "      <td>1</td>\n",
       "    </tr>\n",
       "    <tr>\n",
       "      <th>...</th>\n",
       "      <td>...</td>\n",
       "      <td>...</td>\n",
       "      <td>...</td>\n",
       "      <td>...</td>\n",
       "      <td>...</td>\n",
       "      <td>...</td>\n",
       "      <td>...</td>\n",
       "      <td>...</td>\n",
       "      <td>...</td>\n",
       "      <td>...</td>\n",
       "      <td>...</td>\n",
       "    </tr>\n",
       "    <tr>\n",
       "      <th>79</th>\n",
       "      <td>1503</td>\n",
       "      <td>556693</td>\n",
       "      <td>706</td>\n",
       "      <td>1340</td>\n",
       "      <td>3.60</td>\n",
       "      <td>3.70</td>\n",
       "      <td>19202.310</td>\n",
       "      <td>2.34</td>\n",
       "      <td>2019</td>\n",
       "      <td>10</td>\n",
       "      <td>1</td>\n",
       "    </tr>\n",
       "    <tr>\n",
       "      <th>80</th>\n",
       "      <td>1536</td>\n",
       "      <td>589103</td>\n",
       "      <td>774</td>\n",
       "      <td>1617</td>\n",
       "      <td>3.80</td>\n",
       "      <td>3.52</td>\n",
       "      <td>18951.992</td>\n",
       "      <td>2.36</td>\n",
       "      <td>2020</td>\n",
       "      <td>1</td>\n",
       "      <td>1</td>\n",
       "    </tr>\n",
       "    <tr>\n",
       "      <th>81</th>\n",
       "      <td>1066</td>\n",
       "      <td>562339</td>\n",
       "      <td>570</td>\n",
       "      <td>934</td>\n",
       "      <td>13.07</td>\n",
       "      <td>3.24</td>\n",
       "      <td>17258.205</td>\n",
       "      <td>2.55</td>\n",
       "      <td>2020</td>\n",
       "      <td>4</td>\n",
       "      <td>1</td>\n",
       "    </tr>\n",
       "    <tr>\n",
       "      <th>82</th>\n",
       "      <td>1483</td>\n",
       "      <td>575451</td>\n",
       "      <td>979</td>\n",
       "      <td>1487</td>\n",
       "      <td>8.80</td>\n",
       "      <td>2.95</td>\n",
       "      <td>18560.774</td>\n",
       "      <td>2.80</td>\n",
       "      <td>2020</td>\n",
       "      <td>7</td>\n",
       "      <td>1</td>\n",
       "    </tr>\n",
       "    <tr>\n",
       "      <th>83</th>\n",
       "      <td>1544</td>\n",
       "      <td>637138</td>\n",
       "      <td>945</td>\n",
       "      <td>1528</td>\n",
       "      <td>6.77</td>\n",
       "      <td>2.76</td>\n",
       "      <td>18767.778</td>\n",
       "      <td>2.74</td>\n",
       "      <td>2020</td>\n",
       "      <td>10</td>\n",
       "      <td>1</td>\n",
       "    </tr>\n",
       "  </tbody>\n",
       "</table>\n",
       "<p>84 rows × 11 columns</p>\n",
       "</div>"
      ],
      "text/plain": [
       "    Permit_Number  construction  Homes_Sold  Housing_Starts  UNEM_RATE  \\\n",
       "0            1727        353065         873            1636       4.03   \n",
       "1            1597        356188         841            1626       3.93   \n",
       "2            1542        337374         887            1463       4.00   \n",
       "3            1577        344095         933            1549       3.90   \n",
       "4            1699        348279         936            1600       4.23   \n",
       "..            ...           ...         ...             ...        ...   \n",
       "79           1503        556693         706            1340       3.60   \n",
       "80           1536        589103         774            1617       3.80   \n",
       "81           1066        562339         570             934      13.07   \n",
       "82           1483        575451         979            1487       8.80   \n",
       "83           1544        637138         945            1528       6.77   \n",
       "\n",
       "    MORTGAGE      GDPC1  FORECLOSURES  year  month  day  \n",
       "0       8.26  12935.252          1.95  2000      1    1  \n",
       "1       8.32  13170.749          1.97  2000      4    1  \n",
       "2       8.02  13183.890          2.09  2000      7    1  \n",
       "3       7.62  13262.250          2.23  2000     10    1  \n",
       "4       7.01  13219.251          2.34  2001      1    1  \n",
       "..       ...        ...           ...   ...    ...  ...  \n",
       "79      3.70  19202.310          2.34  2019     10    1  \n",
       "80      3.52  18951.992          2.36  2020      1    1  \n",
       "81      3.24  17258.205          2.55  2020      4    1  \n",
       "82      2.95  18560.774          2.80  2020      7    1  \n",
       "83      2.76  18767.778          2.74  2020     10    1  \n",
       "\n",
       "[84 rows x 11 columns]"
      ]
     },
     "execution_count": 29,
     "metadata": {},
     "output_type": "execute_result"
    }
   ],
   "source": [
    "x"
   ]
  },
  {
   "cell_type": "code",
   "execution_count": 30,
   "id": "cbcc3243",
   "metadata": {},
   "outputs": [
    {
     "data": {
      "text/plain": [
       "0     101.34\n",
       "1     103.67\n",
       "2     105.79\n",
       "3     108.27\n",
       "4     110.48\n",
       "       ...  \n",
       "79    212.47\n",
       "80    215.51\n",
       "81    217.89\n",
       "82    222.84\n",
       "83    232.55\n",
       "Name: HPI, Length: 84, dtype: float64"
      ]
     },
     "execution_count": 30,
     "metadata": {},
     "output_type": "execute_result"
    }
   ],
   "source": [
    "y"
   ]
  },
  {
   "cell_type": "code",
   "execution_count": 31,
   "id": "7d01f651",
   "metadata": {},
   "outputs": [],
   "source": [
    "#spliting our dependent and independent features\n",
    "from sklearn.model_selection import train_test_split\n",
    "x_train,x_test,y_train,y_test=train_test_split(x,y,test_size=0.2,random_state=1)"
   ]
  },
  {
   "cell_type": "markdown",
   "id": "8ca23dc7",
   "metadata": {},
   "source": [
    "# Linear_Regression"
   ]
  },
  {
   "cell_type": "code",
   "execution_count": 32,
   "id": "3babd999",
   "metadata": {},
   "outputs": [
    {
     "name": "stdout",
     "output_type": "stream",
     "text": [
      "4.403961068328888\n"
     ]
    }
   ],
   "source": [
    "import math  \n",
    "import sklearn.metrics  \n",
    "from sklearn.linear_model import LinearRegression\n",
    "from sklearn.metrics import mean_absolute_error, mean_squared_error, r2_score\n",
    "\n",
    "regressor = LinearRegression()\n",
    "regressor.fit(x_train,y_train)\n",
    "predictions = regressor.predict(x_test)\n",
    "mse = sklearn.metrics.mean_squared_error(y_test, predictions)\n",
    "rmse = math.sqrt(mse)\n",
    "print(rmse)\n"
   ]
  },
  {
   "cell_type": "code",
   "execution_count": 33,
   "id": "449abcb3",
   "metadata": {},
   "outputs": [
    {
     "data": {
      "text/plain": [
       "0.9717948047509426"
      ]
     },
     "execution_count": 33,
     "metadata": {},
     "output_type": "execute_result"
    }
   ],
   "source": [
    "\n",
    "y_pred=regressor.predict(x_test)\n",
    "r2_score(y_test,y_pred)"
   ]
  },
  {
   "cell_type": "code",
   "execution_count": 34,
   "id": "b3fb80ff",
   "metadata": {
    "scrolled": false
   },
   "outputs": [
    {
     "name": "stdout",
     "output_type": "stream",
     "text": [
      "Intercept= 12655.618959898018\n"
     ]
    },
    {
     "data": {
      "text/html": [
       "<div>\n",
       "<style scoped>\n",
       "    .dataframe tbody tr th:only-of-type {\n",
       "        vertical-align: middle;\n",
       "    }\n",
       "\n",
       "    .dataframe tbody tr th {\n",
       "        vertical-align: top;\n",
       "    }\n",
       "\n",
       "    .dataframe thead th {\n",
       "        text-align: right;\n",
       "    }\n",
       "</style>\n",
       "<table border=\"1\" class=\"dataframe\">\n",
       "  <thead>\n",
       "    <tr style=\"text-align: right;\">\n",
       "      <th></th>\n",
       "      <th>0</th>\n",
       "      <th>1</th>\n",
       "    </tr>\n",
       "  </thead>\n",
       "  <tbody>\n",
       "    <tr>\n",
       "      <th>0</th>\n",
       "      <td>Permit_Number</td>\n",
       "      <td>-0.021176</td>\n",
       "    </tr>\n",
       "    <tr>\n",
       "      <th>1</th>\n",
       "      <td>construction</td>\n",
       "      <td>0.000179</td>\n",
       "    </tr>\n",
       "    <tr>\n",
       "      <th>2</th>\n",
       "      <td>Homes_Sold</td>\n",
       "      <td>0.001194</td>\n",
       "    </tr>\n",
       "    <tr>\n",
       "      <th>3</th>\n",
       "      <td>Housing_Starts</td>\n",
       "      <td>-0.009498</td>\n",
       "    </tr>\n",
       "    <tr>\n",
       "      <th>4</th>\n",
       "      <td>UNEM_RATE</td>\n",
       "      <td>5.802166</td>\n",
       "    </tr>\n",
       "    <tr>\n",
       "      <th>5</th>\n",
       "      <td>MORTGAGE</td>\n",
       "      <td>-1.273404</td>\n",
       "    </tr>\n",
       "    <tr>\n",
       "      <th>6</th>\n",
       "      <td>GDPC1</td>\n",
       "      <td>0.030675</td>\n",
       "    </tr>\n",
       "    <tr>\n",
       "      <th>7</th>\n",
       "      <td>FORECLOSURES</td>\n",
       "      <td>-2.587455</td>\n",
       "    </tr>\n",
       "    <tr>\n",
       "      <th>8</th>\n",
       "      <td>year</td>\n",
       "      <td>-6.484919</td>\n",
       "    </tr>\n",
       "    <tr>\n",
       "      <th>9</th>\n",
       "      <td>month</td>\n",
       "      <td>-0.590118</td>\n",
       "    </tr>\n",
       "    <tr>\n",
       "      <th>10</th>\n",
       "      <td>day</td>\n",
       "      <td>0.000000</td>\n",
       "    </tr>\n",
       "  </tbody>\n",
       "</table>\n",
       "</div>"
      ],
      "text/plain": [
       "                 0         1\n",
       "0    Permit_Number -0.021176\n",
       "1     construction  0.000179\n",
       "2       Homes_Sold  0.001194\n",
       "3   Housing_Starts -0.009498\n",
       "4        UNEM_RATE  5.802166\n",
       "5         MORTGAGE -1.273404\n",
       "6            GDPC1  0.030675\n",
       "7     FORECLOSURES -2.587455\n",
       "8             year -6.484919\n",
       "9            month -0.590118\n",
       "10             day  0.000000"
      ]
     },
     "execution_count": 34,
     "metadata": {},
     "output_type": "execute_result"
    }
   ],
   "source": [
    "print(\"Intercept=\", regressor.intercept_)\n",
    "(pd.DataFrame(zip(x.columns, regressor.coef_)))"
   ]
  },
  {
   "cell_type": "code",
   "execution_count": 35,
   "id": "233b1064",
   "metadata": {},
   "outputs": [
    {
     "name": "stdout",
     "output_type": "stream",
     "text": [
      "12655.618959898018\n",
      "[-2.11762884e-02  1.79477915e-04  1.19363241e-03 -9.49780732e-03\n",
      "  5.80216634e+00 -1.27340387e+00  3.06748967e-02 -2.58745461e+00\n",
      " -6.48491939e+00 -5.90118006e-01  0.00000000e+00]\n"
     ]
    }
   ],
   "source": [
    "intercept=regressor.intercept_\n",
    "print(intercept)\n",
    "coefs=regressor.coef_\n",
    "print(coefs)"
   ]
  },
  {
   "cell_type": "code",
   "execution_count": 36,
   "id": "7d0936f7",
   "metadata": {},
   "outputs": [
    {
     "name": "stdout",
     "output_type": "stream",
     "text": [
      "HPI = 12655.62 + -0.02*permit_NO + 0.00*construction + 0.00*Homes_sold + -0.01*Housing_starts  +5.80*UNEM_rate +-1.27*MORTAGE +0.03*GDPC1 +-2.59*Foreclousers +-6.48*year +-0.59*month + 0.00*day\n"
     ]
    }
   ],
   "source": [
    "print (\"HPI = {0:.2f} + {1:.2f}*permit_NO + {2:.2f}*construction + {3:.2f}*Homes_sold + {4:.2f}*Housing_starts  +{5:.2f}*UNEM_rate +{6:.2f}*MORTAGE +{7:.2f}*GDPC1 +{8:.2f}*Foreclousers +{9:.2f}*year +{10:.2f}*month + {11:.2f}*day\"\n",
    "       .\n",
    "       format(intercept, coefs[0], coefs[1], coefs[2], coefs[3],coefs[4], coefs[5], coefs[6], coefs[7],coefs[8], coefs[9], coefs[10]))"
   ]
  },
  {
   "cell_type": "code",
   "execution_count": 41,
   "id": "29f2635f",
   "metadata": {},
   "outputs": [
    {
     "data": {
      "image/png": "[encoded data removed]",
      "text/plain": [
       "<Figure size 432x288 with 1 Axes>"
      ]
     },
     "metadata": {
      "needs_background": "light"
     },
     "output_type": "display_data"
    }
   ],
   "source": [
    "plt.scatter(y_test,y_pred)\n",
    "plt.title(\"Scatter plot Linear Regression\")\n",
    "plt.xlabel(\"X\")\n",
    "plt.ylabel(\"Y\")\n",
    "plt.show()"
   ]
  },
  {
   "cell_type": "markdown",
   "id": "0ed16f44",
   "metadata": {},
   "source": [
    "## HPI = 12655.62 + -0.02*permit_NO + 0.00*construction + 0.00*Homes_sold + -0.01*Housing_starts  +5.80*UNEM_rate +-1.27*MORTAGE +0.03*GDPC1 +-2.59*Foreclousers +-6.48*year +-0.59*month + 0.00*day"
   ]
  },
  {
   "cell_type": "markdown",
   "id": "c63c007f",
   "metadata": {},
   "source": [
    "# RandomForestRegressor\n"
   ]
  },
  {
   "cell_type": "code",
   "execution_count": 38,
   "id": "f4fa4a30",
   "metadata": {},
   "outputs": [
    {
     "data": {
      "text/plain": [
       "6.577843455472821"
      ]
     },
     "execution_count": 38,
     "metadata": {},
     "output_type": "execute_result"
    }
   ],
   "source": [
    "from sklearn.ensemble import RandomForestRegressor\n",
    "\n",
    "random_regressor = RandomForestRegressor(oob_score =True ,n_jobs = 1,random_state =100)\n",
    "\n",
    "random_regressor.fit(x_train, y_train)\n",
    "preds = random_regressor.predict(x_test)\n",
    "\n",
    "mean_error = sklearn.metrics.mean_squared_error(y_test, preds)  \n",
    "root_mean = math.sqrt(mean_error) \n",
    "root_mean"
   ]
  },
  {
   "cell_type": "code",
   "execution_count": 39,
   "id": "ce75c718",
   "metadata": {},
   "outputs": [
    {
     "data": {
      "text/plain": [
       "0.9370770267991996"
      ]
     },
     "execution_count": 39,
     "metadata": {},
     "output_type": "execute_result"
    }
   ],
   "source": [
    "ry_pred=random_regressor.predict(x_test)\n",
    "r2_score(y_test,ry_pred)"
   ]
  },
  {
   "cell_type": "code",
   "execution_count": 42,
   "id": "e0a930b7",
   "metadata": {},
   "outputs": [
    {
     "data": {
      "image/png": "[encoded data removed]",
      "text/plain": [
       "<Figure size 432x288 with 1 Axes>"
      ]
     },
     "metadata": {
      "needs_background": "light"
     },
     "output_type": "display_data"
    }
   ],
   "source": [
    "plt.scatter(y_test,ry_pred)\n",
    "plt.title(\"Scatter plot for Random forest \")\n",
    "plt.xlabel(\"X\")\n",
    "plt.ylabel(\"Y\")\n",
    "plt.show()\n"
   ]
  },
  {
   "cell_type": "code",
   "execution_count": null,
   "id": "0017f2e0",
   "metadata": {},
   "outputs": [],
   "source": []
  }
 ],
 "metadata": {
  "kernelspec": {
   "display_name": "Python 3 (ipykernel)",
   "language": "python",
   "name": "python3"
  },
  "language_info": {
   "codemirror_mode": {
    "name": "ipython",
    "version": 3
   },
   "file_extension": ".py",
   "mimetype": "text/x-python",
   "name": "python",
   "nbconvert_exporter": "python",
   "pygments_lexer": "ipython3",
   "version": "3.9.6"
  }
 },
 "nbformat": 4,
 "nbformat_minor": 5
}
